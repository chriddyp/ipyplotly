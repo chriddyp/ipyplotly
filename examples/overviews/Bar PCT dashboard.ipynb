{
 "cells": [
  {
   "cell_type": "code",
   "execution_count": 1,
   "metadata": {
    "collapsed": true
   },
   "outputs": [],
   "source": [
    "# ipyplotly\n",
    "from ipyplotly.datatypes import Figure\n",
    "from ipyplotly.callbacks import Points, InputState\n",
    "\n",
    "# pandas\n",
    "import pandas as pd\n",
    "from pandas.api.types import is_numeric_dtype\n",
    "\n",
    "# numpy\n",
    "import numpy as np\n",
    "\n",
    "# ipywidgets\n",
    "from ipywidgets import Dropdown, HBox, VBox"
   ]
  },
  {
   "cell_type": "code",
   "execution_count": 2,
   "metadata": {
    "collapsed": true
   },
   "outputs": [],
   "source": [
    "df = pd.read_csv('https://raw.githubusercontent.com/plotly/datasets/master/mtcars.csv')"
   ]
  },
  {
   "cell_type": "code",
   "execution_count": 3,
   "metadata": {},
   "outputs": [
    {
     "data": {
      "text/plain": [
       "['mpg', 'cyl', 'disp', 'hp', 'drat', 'wt', 'qsec', 'vs', 'am', 'gear', 'carb']"
      ]
     },
     "execution_count": 3,
     "metadata": {},
     "output_type": "execute_result"
    }
   ],
   "source": [
    "numeric_cols = [col for col in df.columns if is_numeric_dtype(df[col])]\n",
    "numeric_cols"
   ]
  },
  {
   "cell_type": "code",
   "execution_count": 4,
   "metadata": {},
   "outputs": [
    {
     "data": {
      "application/vnd.jupyter.widget-view+json": {
       "model_id": "2385eecdb77945b9bc340babde1e3cc6",
       "version_major": 2,
       "version_minor": 0
      },
      "text/plain": [
       "A Jupyter Widget"
      ]
     },
     "metadata": {},
     "output_type": "display_data"
    }
   ],
   "source": [
    "f = Figure()\n",
    "f"
   ]
  },
  {
   "cell_type": "code",
   "execution_count": 5,
   "metadata": {
    "collapsed": true
   },
   "outputs": [],
   "source": [
    "bar = f.add_bar(y=df.manufacturer.values, orientation='h')"
   ]
  },
  {
   "cell_type": "code",
   "execution_count": 6,
   "metadata": {
    "collapsed": true
   },
   "outputs": [],
   "source": [
    "f.layout.margin.l = 120\n",
    "bar.marker.showscale = True\n",
    "bar.marker.colorscale = 'viridis'\n",
    "\n",
    "f.layout.width = 1100\n",
    "f.layout.height = 800\n",
    "bar.marker.line.width = 1\n",
    "bar.marker.line.color = 'darkgray'"
   ]
  },
  {
   "cell_type": "code",
   "execution_count": 7,
   "metadata": {
    "collapsed": true
   },
   "outputs": [],
   "source": [
    "trace, points, state = bar, Points(), InputState()\n",
    "\n",
    "# Bar click callback\n",
    "def update_click(trace, points, state):\n",
    "    new_clr = np.zeros(df['mpg'].size)\n",
    "    new_clr[points.point_inds] = 1\n",
    "    \n",
    "    bar_line_sizes = np.ones(df['mpg'].size)\n",
    "    bar_line_sizes[points.point_inds] = 3\n",
    "    \n",
    "    # Update pct line color\n",
    "    par.line.color = new_clr\n",
    "    \n",
    "    # Update bar line color and width\n",
    "    with f.batch_update():\n",
    "        bar.marker.line.width = bar_line_sizes \n",
    "        bar.marker.line.color = new_clr\n",
    "\n",
    "bar.on_click(update_click)\n",
    "bar.on_selected(update_click)"
   ]
  },
  {
   "cell_type": "code",
   "execution_count": 8,
   "metadata": {},
   "outputs": [
    {
     "data": {
      "application/vnd.jupyter.widget-view+json": {
       "model_id": "edef9b6244f745d28b89f5461745bf4e",
       "version_major": 2,
       "version_minor": 0
      },
      "text/plain": [
       "A Jupyter Widget"
      ]
     },
     "metadata": {},
     "output_type": "display_data"
    }
   ],
   "source": [
    "f2 = Figure(layout={'width': 1100})\n",
    "f2"
   ]
  },
  {
   "cell_type": "code",
   "execution_count": 9,
   "metadata": {
    "collapsed": true
   },
   "outputs": [],
   "source": [
    "par = f2.add_parcoords(dimensions=[{\n",
    "    'values': df[col].values, \n",
    "    'label': col,\n",
    "    'range': [np.floor(df[col].min()), np.ceil(df[col].max())]} for col in numeric_cols])"
   ]
  },
  {
   "cell_type": "code",
   "execution_count": 10,
   "metadata": {
    "collapsed": true
   },
   "outputs": [],
   "source": [
    "# Set up selection colormap\n",
    "par.line.colorscale = [[0, 'darkgray'], [1, 'red']]\n",
    "par.line.cmin = 0\n",
    "par.line.cmax = 1\n",
    "par.line.color = np.zeros(df['mpg'].size)\n",
    "\n",
    "bar.marker.line.colorscale = par.line.colorscale\n",
    "bar.marker.line.cmin = 0\n",
    "bar.marker.line.cmax = 1"
   ]
  },
  {
   "cell_type": "code",
   "execution_count": 11,
   "metadata": {
    "collapsed": true
   },
   "outputs": [],
   "source": [
    "# Widgets\n",
    "dd = Dropdown(options=df.columns, description='X', value='mpg')\n",
    "clr_dd = Dropdown(options=numeric_cols, description='Color')\n",
    "\n",
    "def update_col(val):\n",
    "    col = dd.value\n",
    "    clr = clr_dd.value\n",
    "    with f.batch_update():\n",
    "        bar.x = df[col].values\n",
    "        bar.marker.color = df[clr].values\n",
    "        bar.marker.colorbar.title = clr\n",
    "        f.layout.xaxis.title = col\n",
    "\n",
    "dd.observe(update_col, 'value')\n",
    "clr_dd.observe(update_col, 'value')\n",
    "\n",
    "update_col(None)"
   ]
  },
  {
   "cell_type": "code",
   "execution_count": 12,
   "metadata": {
    "scrolled": false
   },
   "outputs": [
    {
     "data": {
      "application/vnd.jupyter.widget-view+json": {
       "model_id": "0e4442c1dc604d0badc8a6b678a673f3",
       "version_major": 2,
       "version_minor": 0
      },
      "text/plain": [
       "A Jupyter Widget"
      ]
     },
     "metadata": {},
     "output_type": "display_data"
    }
   ],
   "source": [
    "VBox([f, HBox([dd, clr_dd]), f2])"
   ]
  },
  {
   "cell_type": "code",
   "execution_count": 13,
   "metadata": {
    "collapsed": true
   },
   "outputs": [],
   "source": [
    "f.layout.height = 650"
   ]
  }
 ],
 "metadata": {
  "kernelspec": {
   "display_name": "Python [conda env:ipyplotly_dev]",
   "language": "python",
   "name": "conda-env-ipyplotly_dev-py"
  },
  "language_info": {
   "codemirror_mode": {
    "name": "ipython",
    "version": 3
   },
   "file_extension": ".py",
   "mimetype": "text/x-python",
   "name": "python",
   "nbconvert_exporter": "python",
   "pygments_lexer": "ipython3",
   "version": "3.6.2"
  }
 },
 "nbformat": 4,
 "nbformat_minor": 2
}
