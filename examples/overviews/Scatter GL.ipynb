{
 "cells": [
  {
   "cell_type": "markdown",
   "metadata": {},
   "source": [
    "## ScatterGL Example\n",
    "Data is transfered to JS side using ipywidgets binary protocol without JSON serialization"
   ]
  },
  {
   "cell_type": "code",
   "execution_count": null,
   "metadata": {},
   "outputs": [],
   "source": [
    "# ipyplotly\n",
    "from ipyplotly.datatypes import Figure\n",
    "\n",
    "# ipywidgets\n",
    "from IPython.display import display\n",
    "\n",
    "# numpy\n",
    "import numpy as np\n",
    "\n",
    "# core\n",
    "import datetime\n",
    "import time"
   ]
  },
  {
   "cell_type": "code",
   "execution_count": null,
   "metadata": {},
   "outputs": [],
   "source": [
    "# One million points\n",
    "N = 1000000\n",
    "trace1 = dict(\n",
    "    type = 'scattergl',\n",
    "    x = np.random.randn(N),\n",
    "    y = np.random.randn(N),\n",
    "    mode = 'markers',\n",
    "    marker = dict(\n",
    "        line = dict(\n",
    "            width = 1,\n",
    "            color = '#404040')\n",
    "    )\n",
    ")"
   ]
  },
  {
   "cell_type": "code",
   "execution_count": null,
   "metadata": {},
   "outputs": [],
   "source": [
    "f = Figure()\n",
    "f"
   ]
  },
  {
   "cell_type": "code",
   "execution_count": null,
   "metadata": {},
   "outputs": [],
   "source": [
    "# Adding 1 million points takes ~5 seconds\n",
    "scatt1 = f.add_scattergl(x = np.random.randn(N), \n",
    "                         y = np.random.randn(N),\n",
    "                         mode = 'markers',\n",
    "                         marker={'line': {'width': 1}})"
   ]
  }
 ],
 "metadata": {
  "kernelspec": {
   "display_name": "Python [default]",
   "language": "python",
   "name": "python3"
  },
  "language_info": {
   "codemirror_mode": {
    "name": "ipython",
    "version": 3
   },
   "file_extension": ".py",
   "mimetype": "text/x-python",
   "name": "python",
   "nbconvert_exporter": "python",
   "pygments_lexer": "ipython3",
   "version": "3.6.2"
  }
 },
 "nbformat": 4,
 "nbformat_minor": 2
}
