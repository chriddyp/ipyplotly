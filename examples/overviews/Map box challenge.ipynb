{
 "cells": [
  {
   "cell_type": "code",
   "execution_count": 1,
   "metadata": {
    "collapsed": true
   },
   "outputs": [],
   "source": [
    "# Imports\n",
    "\n",
    "# ipyplotly\n",
    "from ipyplotly.datatypes import Figure\n",
    "from ipyplotly.callbacks import Points, InputState\n",
    "\n",
    "# pandas\n",
    "import pandas as pd\n",
    "\n",
    "# ipywidgets\n",
    "from ipywidgets import HTML, HBox, VBox"
   ]
  },
  {
   "cell_type": "code",
   "execution_count": 2,
   "metadata": {
    "collapsed": true
   },
   "outputs": [],
   "source": [
    "df = pd.read_csv(\n",
    "    'https://raw.githubusercontent.com/'\n",
    "    'plotly/datasets/master/'\n",
    "    '1962_2006_walmart_store_openings.csv')"
   ]
  },
  {
   "cell_type": "code",
   "execution_count": 3,
   "metadata": {
    "collapsed": true
   },
   "outputs": [],
   "source": [
    "f = Figure(\n",
    "    traces=[{\n",
    "        'lat': df['LAT'].values,\n",
    "        'lon': df['LON'].values,\n",
    "        'marker': {\n",
    "            'color': df['YEAR'].values,\n",
    "            'size': 8,\n",
    "            'opacity': 0.6,\n",
    "            'colorscale': 'Hot',\n",
    "            'showscale': True,\n",
    "            'reversescale': True\n",
    "        },\n",
    "        'type': 'scattermapbox'}],\n",
    "    layout={\n",
    "        'mapbox': {\n",
    "            'accesstoken': 'pk.eyJ1IjoiY2hyaWRkeXAiLCJhIjoiY2ozcGI1MTZ3MDBpcTJ3cXR4b3owdDQwaCJ9.8jpMunbKjdq1anXwU5gxIw'\n",
    "        },\n",
    "        'hovermode': 'closest',\n",
    "        'margin': {'l': 0, 'r': 0, 'b': 0, 't': 0}})\n",
    "mapbox = f.traces[0]"
   ]
  },
  {
   "cell_type": "code",
   "execution_count": 4,
   "metadata": {
    "collapsed": true
   },
   "outputs": [],
   "source": [
    "table_widget = HTML()"
   ]
  },
  {
   "cell_type": "code",
   "execution_count": 5,
   "metadata": {
    "collapsed": true
   },
   "outputs": [],
   "source": [
    "# Completion helpers\n",
    "trace, points, state = mapbox, Points(), InputState()"
   ]
  },
  {
   "cell_type": "code",
   "execution_count": 6,
   "metadata": {
    "collapsed": true
   },
   "outputs": [],
   "source": [
    "def update_text(trace, points, state):\n",
    "    table_html = df.loc[points.point_inds, ['OPENDATE', 'STRCITY', 'STRSTATE']]._repr_html_()\n",
    "    table_widget.value = table_html"
   ]
  },
  {
   "cell_type": "code",
   "execution_count": 7,
   "metadata": {
    "collapsed": true
   },
   "outputs": [],
   "source": [
    "mapbox.on_selected(update_text)"
   ]
  },
  {
   "cell_type": "code",
   "execution_count": 8,
   "metadata": {
    "scrolled": false
   },
   "outputs": [
    {
     "data": {
      "text/plain": [
       "A Jupyter Widget"
      ]
     },
     "metadata": {},
     "output_type": "display_data"
    }
   ],
   "source": [
    "# Build layout\n",
    "HBox([f, table_widget])"
   ]
  },
  {
   "cell_type": "code",
   "execution_count": null,
   "metadata": {
    "collapsed": true
   },
   "outputs": [],
   "source": []
  }
 ],
 "metadata": {
  "kernelspec": {
   "display_name": "Python [conda env:ipyplotly_dev]",
   "language": "python",
   "name": "conda-env-ipyplotly_dev-py"
  },
  "language_info": {
   "codemirror_mode": {
    "name": "ipython",
    "version": 3
   },
   "file_extension": ".py",
   "mimetype": "text/x-python",
   "name": "python",
   "nbconvert_exporter": "python",
   "pygments_lexer": "ipython3",
   "version": "3.6.2"
  }
 },
 "nbformat": 4,
 "nbformat_minor": 2
}
