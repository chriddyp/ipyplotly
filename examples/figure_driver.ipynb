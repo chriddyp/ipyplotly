{
 "cells": [
  {
   "cell_type": "code",
   "execution_count": 1,
   "metadata": {
    "collapsed": true
   },
   "outputs": [],
   "source": [
    "from ipyplotly.datatypes import Figure\n",
    "import ipyplotly"
   ]
  },
  {
   "cell_type": "code",
   "execution_count": 2,
   "metadata": {
    "collapsed": true
   },
   "outputs": [],
   "source": [
    "fig = Figure()"
   ]
  },
  {
   "cell_type": "code",
   "execution_count": 3,
   "metadata": {},
   "outputs": [
    {
     "data": {
      "application/vnd.jupyter.widget-view+json": {
       "model_id": "172b003e1c014a679edc274191725bb6",
       "version_major": 2,
       "version_minor": 0
      },
      "text/plain": [
       "A Jupyter Widget"
      ]
     },
     "metadata": {},
     "output_type": "display_data"
    }
   ],
   "source": [
    "fig"
   ]
  },
  {
   "cell_type": "code",
   "execution_count": 4,
   "metadata": {
    "collapsed": true
   },
   "outputs": [],
   "source": [
    "scatt = fig.add_scatter(x=[0, 1, 2], y=[1, 2, 4], opacity=0.8)"
   ]
  },
  {
   "cell_type": "code",
   "execution_count": 5,
   "metadata": {
    "collapsed": true
   },
   "outputs": [],
   "source": [
    "scatt.mode = 'lines+markers'"
   ]
  },
  {
   "cell_type": "code",
   "execution_count": 6,
   "metadata": {},
   "outputs": [],
   "source": [
    "scatt.name"
   ]
  },
  {
   "cell_type": "code",
   "execution_count": 7,
   "metadata": {
    "collapsed": true
   },
   "outputs": [],
   "source": [
    "scatt2 = fig.add_scatter(x=[-1, 0, 1, 2], y=[1, 2, 4, 5], opacity=0.1)"
   ]
  },
  {
   "cell_type": "code",
   "execution_count": 8,
   "metadata": {},
   "outputs": [],
   "source": [
    "scatt2.opacity = 0.8"
   ]
  },
  {
   "cell_type": "code",
   "execution_count": 9,
   "metadata": {},
   "outputs": [],
   "source": [
    "scatt.line.color = 'purple'"
   ]
  },
  {
   "cell_type": "code",
   "execution_count": 10,
   "metadata": {},
   "outputs": [],
   "source": [
    "scatt.marker.color = 'green'"
   ]
  },
  {
   "cell_type": "code",
   "execution_count": 11,
   "metadata": {},
   "outputs": [],
   "source": [
    "scatt.name = 'A 34'"
   ]
  },
  {
   "cell_type": "code",
   "execution_count": 12,
   "metadata": {},
   "outputs": [],
   "source": [
    "scatt2.line.color = 'green'"
   ]
  },
  {
   "cell_type": "code",
   "execution_count": 13,
   "metadata": {},
   "outputs": [],
   "source": [
    "scatt2.name = 'Awesome'"
   ]
  },
  {
   "cell_type": "code",
   "execution_count": 16,
   "metadata": {},
   "outputs": [
    {
     "data": {
      "application/vnd.jupyter.widget-view+json": {
       "model_id": "172b003e1c014a679edc274191725bb6",
       "version_major": 2,
       "version_minor": 0
      },
      "text/plain": [
       "A Jupyter Widget"
      ]
     },
     "metadata": {},
     "output_type": "display_data"
    }
   ],
   "source": [
    "fig"
   ]
  },
  {
   "cell_type": "code",
   "execution_count": 21,
   "metadata": {},
   "outputs": [
    {
     "data": {
      "text/plain": [
       "'legendonly'"
      ]
     },
     "execution_count": 21,
     "metadata": {},
     "output_type": "execute_result"
    }
   ],
   "source": [
    "fig.traces[0].on_hover = lambda"
   ]
  },
  {
   "cell_type": "code",
   "execution_count": 14,
   "metadata": {
    "collapsed": true
   },
   "outputs": [],
   "source": [
    "# fig.traces[0].opacity = 0.1"
   ]
  },
  {
   "cell_type": "code",
   "execution_count": 15,
   "metadata": {
    "collapsed": true
   },
   "outputs": [],
   "source": [
    "import json"
   ]
  },
  {
   "cell_type": "code",
   "execution_count": 23,
   "metadata": {
    "collapsed": true
   },
   "outputs": [],
   "source": [
    "fig._plotly_addTraceDeltas"
   ]
  },
  {
   "cell_type": "code",
   "execution_count": 13,
   "metadata": {
    "collapsed": true
   },
   "outputs": [],
   "source": [
    "scatt =fig.traces[0]"
   ]
  },
  {
   "cell_type": "code",
   "execution_count": 6,
   "metadata": {},
   "outputs": [
    {
     "data": {
      "text/plain": [
       "{'cliponaxis': True,\n",
       " 'connectgaps': False,\n",
       " 'customdata': None,\n",
       " 'customdatasrc': None,\n",
       " 'dx': 1,\n",
       " 'dy': 1,\n",
       " 'error_x': {'array': None,\n",
       "  'arrayminus': None,\n",
       "  'arrayminussrc': None,\n",
       "  'arraysrc': None,\n",
       "  'color': '#1f77b4',\n",
       "  'copy_ystyle': False,\n",
       "  'copy_zstyle': None,\n",
       "  'symmetric': False,\n",
       "  'thickness': 2,\n",
       "  'traceref': 0,\n",
       "  'tracerefminus': 0,\n",
       "  'type': 'data',\n",
       "  'value': 10,\n",
       "  'valueminus': 10,\n",
       "  'visible': True,\n",
       "  'width': 4},\n",
       " 'error_y': {'array': None,\n",
       "  'arrayminus': None,\n",
       "  'arrayminussrc': None,\n",
       "  'arraysrc': None,\n",
       "  'color': '#1f77b4',\n",
       "  'copy_ystyle': None,\n",
       "  'copy_zstyle': None,\n",
       "  'symmetric': False,\n",
       "  'thickness': 2,\n",
       "  'traceref': 0,\n",
       "  'tracerefminus': 0,\n",
       "  'type': 'data',\n",
       "  'value': 10,\n",
       "  'valueminus': 10,\n",
       "  'visible': True,\n",
       "  'width': 4},\n",
       " 'fill': 'none',\n",
       " 'fillcolor': None,\n",
       " 'hoverinfo': 'all',\n",
       " 'hoverinfosrc': None,\n",
       " 'hoverlabel': {'bgcolor': None,\n",
       "  'bgcolorsrc': None,\n",
       "  'bordercolor': None,\n",
       "  'bordercolorsrc': None,\n",
       "  'font': {'color': None,\n",
       "   'colorsrc': None,\n",
       "   'family': 'Arial, sans-serif',\n",
       "   'familysrc': None,\n",
       "   'size': 13,\n",
       "   'sizesrc': None,\n",
       "   'type': 'scatter.hoverlabel.font'},\n",
       "  'namelength': 15,\n",
       "  'namelengthsrc': None,\n",
       "  'type': 'scatter.hoverlabel'},\n",
       " 'hoveron': 'points',\n",
       " 'hovertext': '',\n",
       " 'hovertextsrc': None,\n",
       " 'ids': None,\n",
       " 'idssrc': None,\n",
       " 'legendgroup': '',\n",
       " 'line': {'color': '#1f77b4',\n",
       "  'dash': 'solid',\n",
       "  'shape': 'linear',\n",
       "  'simplify': True,\n",
       "  'smoothing': 1,\n",
       "  'type': 'scatter.line',\n",
       "  'width': 2},\n",
       " 'marker': {'autocolorscale': True,\n",
       "  'cauto': True,\n",
       "  'cmax': None,\n",
       "  'cmin': None,\n",
       "  'color': '#1f77b4',\n",
       "  'colorbar': {'bgcolor': 'rgba(0,0,0,0)',\n",
       "   'bordercolor': '#444',\n",
       "   'borderwidth': 0,\n",
       "   'dtick': None,\n",
       "   'exponentformat': 'B',\n",
       "   'len': 1,\n",
       "   'lenmode': 'fraction',\n",
       "   'nticks': 0,\n",
       "   'outlinecolor': '#444',\n",
       "   'outlinewidth': 1,\n",
       "   'separatethousands': False,\n",
       "   'showexponent': 'all',\n",
       "   'showticklabels': True,\n",
       "   'showtickprefix': 'all',\n",
       "   'showticksuffix': 'all',\n",
       "   'thickness': 30,\n",
       "   'thicknessmode': 'pixels',\n",
       "   'tick0': None,\n",
       "   'tickangle': 'auto',\n",
       "   'tickcolor': '#444',\n",
       "   'tickfont': {'color': None,\n",
       "    'family': None,\n",
       "    'size': None,\n",
       "    'type': 'scatter.marker.colorbar.tickfont'},\n",
       "   'tickformat': '',\n",
       "   'ticklen': 5,\n",
       "   'tickmode': None,\n",
       "   'tickprefix': '',\n",
       "   'ticks': '',\n",
       "   'ticksuffix': '',\n",
       "   'ticktext': None,\n",
       "   'ticktextsrc': None,\n",
       "   'tickvals': None,\n",
       "   'tickvalssrc': None,\n",
       "   'tickwidth': 1,\n",
       "   'title': 'Click to enter colorscale title',\n",
       "   'titlefont': {'color': None,\n",
       "    'family': None,\n",
       "    'size': None,\n",
       "    'type': 'scatter.marker.colorbar.titlefont'},\n",
       "   'titleside': 'top',\n",
       "   'type': 'scatter.marker.colorbar',\n",
       "   'x': 1.02,\n",
       "   'xanchor': 'left',\n",
       "   'xpad': 10,\n",
       "   'y': 0.5,\n",
       "   'yanchor': 'middle',\n",
       "   'ypad': 10},\n",
       "  'colorscale': None,\n",
       "  'colorsrc': None,\n",
       "  'gradient': {'color': None,\n",
       "   'colorsrc': None,\n",
       "   'type': 'none',\n",
       "   'typesrc': None},\n",
       "  'line': {'autocolorscale': True,\n",
       "   'cauto': True,\n",
       "   'cmax': None,\n",
       "   'cmin': None,\n",
       "   'color': '#444',\n",
       "   'colorscale': None,\n",
       "   'colorsrc': None,\n",
       "   'reversescale': False,\n",
       "   'type': 'scatter.marker.line',\n",
       "   'width': 0,\n",
       "   'widthsrc': None},\n",
       "  'maxdisplayed': 0,\n",
       "  'opacity': 1,\n",
       "  'opacitysrc': None,\n",
       "  'reversescale': False,\n",
       "  'showscale': False,\n",
       "  'size': 6,\n",
       "  'sizemin': 0,\n",
       "  'sizemode': 'diameter',\n",
       "  'sizeref': 1,\n",
       "  'sizesrc': None,\n",
       "  'symbol': 'circle',\n",
       "  'symbolsrc': None,\n",
       "  'type': 'scatter.marker'},\n",
       " 'mode': 'lines+markers',\n",
       " 'name': 'trace 0',\n",
       " 'opacity': 0.8,\n",
       " 'r': None,\n",
       " 'rsrc': None,\n",
       " 'showlegend': True,\n",
       " 'stream': {'maxpoints': 500, 'token': None, 'type': 'scatter.stream'},\n",
       " 't': None,\n",
       " 'text': '',\n",
       " 'textfont': {'color': None,\n",
       "  'colorsrc': None,\n",
       "  'family': None,\n",
       "  'familysrc': None,\n",
       "  'size': None,\n",
       "  'sizesrc': None,\n",
       "  'type': 'scatter.textfont'},\n",
       " 'textposition': 'middle center',\n",
       " 'textpositionsrc': None,\n",
       " 'textsrc': None,\n",
       " 'tsrc': None,\n",
       " 'type': 'scatter',\n",
       " 'uid': 'f1c6b924-988d-11e7-8624-a0999b0c017b',\n",
       " 'visible': True,\n",
       " 'x': [0, 1, 2],\n",
       " 'x0': 0,\n",
       " 'xaxis': 'x',\n",
       " 'xcalendar': 'gregorian',\n",
       " 'xsrc': None,\n",
       " 'y': [1, 2, 4],\n",
       " 'y0': 0,\n",
       " 'yaxis': 'y',\n",
       " 'ycalendar': 'gregorian',\n",
       " 'ysrc': None}"
      ]
     },
     "execution_count": 6,
     "metadata": {},
     "output_type": "execute_result"
    }
   ],
   "source": [
    "scatt._data"
   ]
  },
  {
   "cell_type": "code",
   "execution_count": 42,
   "metadata": {},
   "outputs": [
    {
     "name": "stdout",
     "output_type": "stream",
     "text": [
      "Restyle: ({'uid': 'asdf'}, 0)\n"
     ]
    }
   ],
   "source": [
    "scatt.uid = 'asdf'"
   ]
  },
  {
   "cell_type": "code",
   "execution_count": null,
   "metadata": {
    "collapsed": true
   },
   "outputs": [],
   "source": []
  }
 ],
 "metadata": {
  "anaconda-cloud": {},
  "kernelspec": {
   "display_name": "Python [conda env:ipyplotly_dev]",
   "language": "python",
   "name": "conda-env-ipyplotly_dev-py"
  },
  "language_info": {
   "codemirror_mode": {
    "name": "ipython",
    "version": 3
   },
   "file_extension": ".py",
   "mimetype": "text/x-python",
   "name": "python",
   "nbconvert_exporter": "python",
   "pygments_lexer": "ipython3",
   "version": "3.6.2"
  }
 },
 "nbformat": 4,
 "nbformat_minor": 2
}
